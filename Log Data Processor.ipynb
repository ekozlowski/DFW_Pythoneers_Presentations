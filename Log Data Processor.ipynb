{
 "metadata": {
  "name": "Log Data Processor"
 },
 "nbformat": 3,
 "nbformat_minor": 0,
 "worksheets": [
  {
   "cells": [
    {
     "cell_type": "heading",
     "level": 1,
     "metadata": {},
     "source": "Log Data Processor"
    },
    {
     "cell_type": "markdown",
     "metadata": {},
     "source": "Problem:  XML file processing is taking a long time, and we need to figure out why.\n\nApproach:  Analyze the processing log to determine seconds per file in processing, and see if the time ranges correlate to running processes.\n"
    },
    {
     "cell_type": "heading",
     "level": 3,
     "metadata": {},
     "source": "Import the modules we need, setup our pathing, read the first few lines of our file and see what we need to parse."
    },
    {
     "cell_type": "code",
     "collapsed": false,
     "input": "import os\nimport datetime\nimport time\n\n# Change to our data directory\nos.chdir('/Users/e003070/notebook/')\nlines = [x for x in open('./processing_log.txt', 'r').readlines() if 'Processing' in x]\nprint len(lines)\nprint \"first\"\nfor l in lines[0:5]:\n    print l\nprint \"last\"\nfor l in lines[-5:]:\n    print l",
     "language": "python",
     "metadata": {},
     "outputs": [
      {
       "output_type": "stream",
       "stream": "stdout",
       "text": "323428\nfirst\n2011-02-17 01:29:49,198 process DEBUG e:\\production_python\\t24_processor\\t24processor.py 177 Processing 2011-02-16 1\r\n\n2011-02-17 01:31:07,476 process DEBUG e:\\production_python\\t24_processor\\t24processor.py 177 Processing 2011-02-16 18\r\n\n2011-02-17 01:31:42,742 process DEBUG e:\\production_python\\t24_processor\\t24processor.py 177 Processing 2011-02-16 19\r\n\n2011-02-17 01:32:18,036 process DEBUG e:\\production_python\\t24_processor\\t24processor.py 177 Processing 2011-02-16 97\r\n\n2011-02-17 01:32:48,052 process DEBUG e:\\production_python\\t24_processor\\t24processor.py 177 Processing 2011-02-16 105\r\n\nlast\n2014-02-08 03:03:41,226 process DEBUG e:\\production_python\\t24_processor\\t24processor.py 177 Processing 2014-02-07 830\r\n\n2014-02-08 03:03:44,398 process DEBUG e:\\production_python\\t24_processor\\t24processor.py 177 Processing 2014-02-07 994\r\n\n2014-02-08 03:03:44,615 process DEBUG e:\\production_python\\t24_processor\\t24processor.py 177 Processing 2014-02-06 203\r\n\n2014-02-08 03:03:55,378 process DEBUG e:\\production_python\\t24_processor\\t24processor.py 177 Processing 2014-02-06 354\r\n\n2014-02-08 03:03:59,752 process DEBUG e:\\production_python\\t24_processor\\t24processor.py 177 Processing 2014-02-05 203\r\n\n"
      }
     ],
     "prompt_number": 4
    },
    {
     "cell_type": "heading",
     "level": 3,
     "metadata": {},
     "source": "Compile parsing pattern to extract date from data line above\n"
    },
    {
     "cell_type": "code",
     "collapsed": false,
     "input": "from parse import parse, compile\np = compile(\"{},{} process DEBUG {}\")\n\n",
     "language": "python",
     "metadata": {},
     "outputs": [],
     "prompt_number": 5
    },
    {
     "cell_type": "heading",
     "level": 3,
     "metadata": {},
     "source": "Pick the day we're interested in.  \n(Could be any day between 2011 and 2014 (current))\n"
    },
    {
     "cell_type": "code",
     "collapsed": false,
     "input": "# Processing happens between 12am and 12pm daily.\n# To view a day, just change the date below, and rerun the next two cells.\n\n# yesterday\n# view_date = datetime.datetime(2014, 2, 8)\n\n# Problem days:\n#view_date = datetime.datetime(2013, 12, 17)\n# view_date = datetime.datetime(2013, 12, 16)\nview_date = datetime.datetime(2013, 12, 15)\n# view_date = datetime.datetiem(2013, 12, 14)\n\n# We're only interested in midnight until noon on our processing day\nbegin = view_date.replace(hour=0, minute=0, second=0)\nend = view_date.replace(hour=12, minute=0, second=0)\n",
     "language": "python",
     "metadata": {},
     "outputs": [],
     "prompt_number": 12
    },
    {
     "cell_type": "heading",
     "level": 3,
     "metadata": {},
     "source": "Mine the data to plot out of the log"
    },
    {
     "cell_type": "code",
     "collapsed": false,
     "input": "timestamps = []\nseconds = []\nprior_timestamp = None\nfor line in lines:\n    result = p.parse(line)\n    if not result: continue  # skip failing parses    \n    date_and_time, toss1, toss2 = result\n    current_timestamp = datetime.datetime.fromtimestamp(time.mktime(time.strptime(date_and_time, \"%Y-%m-%d %H:%M:%S\")))\n    if current_timestamp < begin or current_timestamp > end: continue\n    if prior_timestamp:\n        delta = (current_timestamp - prior_timestamp).seconds\n        if delta > 36000: \n            prior_timestamp = None\n            continue  # we crossed day boundaries\n        #print current_timestamp, delta\n        timestamps.append(current_timestamp)\n        seconds.append(delta)\n    prior_timestamp = current_timestamp",
     "language": "python",
     "metadata": {},
     "outputs": [],
     "prompt_number": 13
    },
    {
     "cell_type": "heading",
     "level": 3,
     "metadata": {},
     "source": "Plot the data"
    },
    {
     "cell_type": "code",
     "collapsed": false,
     "input": "import matplotlib.pyplot as plt\n\nfrom matplotlib import dates\n\nhfmt = dates.DateFormatter(\"%m/%d %I:%M %p\")\n\nminutes_per_slice = 10  # 60 should be evenly divisible by this number to make the graph look \"right\" on the axis.\n\nfig = plt.figure()\nax = fig.add_subplot(111)\n\n# Set Axis Labels\nax.set_ylabel(\"Processing Seconds Per XML File\")\nax.set_xlabel(\"Process Time Of Day\")\n\n# Format X-Axis dates\nax.xaxis.set_major_locator(dates.MinuteLocator(range(0,60,minutes_per_slice)))\nax.xaxis.set_major_formatter(hfmt)\nplt.plot(timestamps, seconds)\n\nplt.xticks(rotation=90)\nplt.subplots_adjust(hspace=0, bottom=0.3)\nplt.show()\n\n",
     "language": "python",
     "metadata": {},
     "outputs": [],
     "prompt_number": 14
    },
    {
     "cell_type": "code",
     "collapsed": false,
     "input": "",
     "language": "python",
     "metadata": {},
     "outputs": []
    }
   ],
   "metadata": {}
  }
 ]
}